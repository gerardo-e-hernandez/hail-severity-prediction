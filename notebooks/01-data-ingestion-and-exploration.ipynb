{
 "cells": [
  {
   "cell_type": "markdown",
   "metadata": {},
   "source": [
    "# 1. Data Ingestion and Exploration\n",
    "\n",
    "This notebook covers the first step of the project: downloading the necessary raw data (SPC reports and NEXRAD files) and performing some initial exploratory analysis."
   ]
  },
  {
   "cell_type": "code",
   "execution_count": null,
   "metadata": {},
   "outputs": [],
   "source": [
    "import pandas as pd\n",
    "import os\n",
    "from datetime import datetime\n",
    "import sys\n",
    "\n",
    "# Add src directory to path to import our custom modules\n",
    "sys.path.append('../src')\n",
    "from data_processing import download_spc_reports, download_nexrad_data"
   ]
  },
  {
   "cell_type": "markdown",
   "metadata": {},
   "source": [
    "## Step 1: Define Parameters and Paths\n",
    "\n",
    "We'll focus on a specific date with known severe weather. A good case study helps in verifying the pipeline. Let's use a recent severe weather event in the DFW area."
   ]
  },
  {
   "cell_type": "code",
   "execution_count": null,
   "metadata": {},
   "outputs": [],
   "source": [
    "START_DATE = '20240528'\n",
    "END_DATE = '20240528'\n",
    "RADAR_SITE = 'KDFW' # Dallas/Fort Worth, a good site for severe weather\n",
    "EVENT_TIME_UTC = datetime(2024, 5, 28, 6, 0) # 6:00 AM UTC on May 28th\n",
    "\n",
    "RAW_DATA_PATH = '../data/raw/'\n",
    "SPC_PATH = os.path.join(RAW_DATA_PATH, 'spc_reports')\n",
    "NEXRAD_PATH = os.path.join(RAW_DATA_PATH, 'nexrad')"
   ]
  },
  {
   "cell_type": "markdown",
   "metadata": {},
   "source": [
    "## Step 2: Download SPC Storm Reports"
   ]
  },
  {
   "cell_type": "code",
   "execution_count": null,
   "metadata": {},
   "outputs": [],
   "source": [
    "download_spc_reports(START_DATE, END_DATE, SPC_PATH)"
   ]
  },
  {
   "cell_type": "markdown",
   "metadata": {},
   "source": [
    "## Step 3: Explore the SPC Data"
   ]
  },
  {
   "cell_type": "code",
   "execution_count": null,
   "metadata": {},
   "outputs": [],
   "source": [
    "report_file = os.path.join(SPC_PATH, f\"{START_DATE[2:]}_rpts.csv\")\n",
    "spc_df = pd.read_csv(report_file)\n",
    "\n",
    "# Filter for just hail reports\n",
    "hail_reports = spc_df[spc_df['Type'] == 'Hail'].copy()\n",
    "\n",
    "print(f\"Found {len(hail_reports)} hail reports on {START_DATE}.\")\n",
    "hail_reports.head()"
   ]
  },
  {
   "cell_type": "markdown",
   "metadata": {},
   "source": [
    "## Step 4: Download a NEXRAD Radar File\n",
    "\n",
    "Let's download a single scan around the time of the event for initial analysis."
   ]
  },
  {
   "cell_type": "code",
   "execution_count": null,
   "metadata": {},
   "outputs": [],
   "source": [
    "download_nexrad_data(EVENT_TIME_UTC, RADAR_SITE, NEXRAD_PATH)"
   ]
  },
  {
   "cell_type": "markdown",
   "metadata": {},
   "source": [
    "## Step 5: Load and Visualize the Radar Data with Py-ART"
   ]
  },
  {
   "cell_type": "code",
   "execution_count": null,
   "metadata": {},
   "outputs": [],
   "source": [
    "import pyart\n",
    "import matplotlib.pyplot as plt\n",
    "\n",
    "# Find the downloaded file\n",
    "downloaded_files = os.listdir(NEXRAD_PATH)\n",
    "if downloaded_files:\n",
    "    nexrad_file = os.path.join(NEXRAD_PATH, downloaded_files[0])\n",
    "    print(f\"Loading {nexrad_file}...\")\n",
    "    radar = pyart.io.read(nexrad_file)\n",
    "\n",
    "    # Create a display object\n",
    "    display = pyart.graph.RadarDisplay(radar)\n",
    "\n",
    "    # Plot the base reflectivity\n",
    "    fig, ax = plt.subplots(1, 1, figsize=(10, 8))\n",
    "    display.plot('reflectivity', sweep=0, ax=ax, vmin=-20, vmax=80, cmap='pyart_NWSRef')\n",
    "    ax.set_title(f'Base Reflectivity for {RADAR_SITE} at {EVENT_TIME_UTC}')\n",
    "    plt.show()\n",
    "else:\n",
    "    print(\"No NEXRAD files found in the directory.\")"
   ]
  }
 ],
 "metadata": {
  "kernelspec": {
   "display_name": "Python 3",
   "language": "python",
   "name": "python3"
  },
  "language_info": {
   "name": "python"
  }
 },
 "nbformat": 4,
 "nbformat_minor": 4
}