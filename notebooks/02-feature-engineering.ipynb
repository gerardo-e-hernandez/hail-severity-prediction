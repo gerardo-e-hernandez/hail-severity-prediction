{
 "cells": [
  {
   "cell_type": "markdown",
   "metadata": {},
   "source": [
    "# 2. Feature Engineering\n",
    "\n",
    "In this notebook, we'll process a raw NEXRAD file to identify storm cells and calculate predictive features for each one."
   ]
  },
  {
   "cell_type": "code",
   "execution_count": null,
   "metadata": {},
   "outputs": [],
   "source": [
    "import pyart\n",
    "import os\n",
    "import sys\n",
    "import pandas as pd\n",
    "import matplotlib.pyplot as plt\n",
    "import numpy as np\n",
    "\n",
    "sys.path.append('../src')\n",
    "from feature_engineering import calculate_vil, get_storm_cells, extract_features_for_cells"
   ]
  },
  {
   "cell_type": "markdown",
   "metadata": {},
   "source": [
    "## Step 1: Load a Radar File"
   ]
  },
  {
   "cell_type": "code",
   "execution_count": null,
   "metadata": {},
   "outputs": [],
   "source": [
    "NEXRAD_PATH = '../data/raw/nexrad/'\n",
    "PROCESSED_PATH = '../data/processed/'\n",
    "os.makedirs(PROCESSED_PATH, exist_ok=True)\n",
    "\n",
    "downloaded_files = os.listdir(NEXRAD_PATH)\n",
    "if not downloaded_files:\n",
    "    raise FileNotFoundError(\"No NEXRAD files found. Run notebook 01 first.\")\n",
    "\n",
    "nexrad_file = os.path.join(NEXRAD_PATH, downloaded_files[0])\n",
    "radar = pyart.io.read(nexrad_file)"
   ]
  },
  {
   "cell_type": "markdown",
   "metadata": {},
   "source": [
    "## Step 2: Calculate Vertically Integrated Liquid (VIL)\n",
    "\n",
    "VIL is a great way to identify the most intense parts of a storm. We'll use it to find storm cells."
   ]
  },
  {
   "cell_type": "code",
   "execution_count": null,
   "metadata": {},
   "outputs": [],
   "source": [
    "# Note: For accurate VIL, the radar data should be on a grid.\n",
    "# A more robust approach uses pyart.map.grid_from_radars, but this is a good start.\n",
    "\n",
    "vil_grid = calculate_vil(radar, refl_field='reflectivity')\n",
    "\n",
    "# Visualize the VIL grid\n",
    "display = pyart.graph.RadarDisplay(radar)\n",
    "fig = plt.figure(figsize=(10, 8))\n",
    "ax = fig.add_subplot(111)\n",
    "# Create a dummy field in the radar object to display the VIL data\n",
    "vil_field = {'data': vil_grid}\n",
    "radar.add_field('vil', vil_field, replace_existing=True)\n",
    "display.plot_ppi('vil', 0, ax=ax, vmin=0, vmax=40, cmap='viridis')\n",
    "ax.set_title('Vertically Integrated Liquid (VIL)')\n",
    "plt.show()"
   ]
  },
  {
   "cell_type": "markdown",
   "metadata": {},
   "source": [
    "## Step 3: Identify Storm Cells"
   ]
  },
  {
   "cell_type": "code",
   "execution_count": null,
   "metadata": {},
   "outputs": [],
   "source": [
    "labeled_cells, num_features = get_storm_cells(vil_grid, threshold=5.0)\n",
    "\n",
    "print(f\"Identified {num_features} potential storm cells.\")\n",
    "\n",
    "# Visualize the labeled cells\n",
    "plt.figure(figsize=(10, 8))\n",
    "plt.imshow(labeled_cells, cmap='tab20b', origin='lower')\n",
    "plt.title('Identified Storm Cells')\n",
    "plt.colorbar()\n",
    "plt.show()"
   ]
  },
  {
   "cell_type": "markdown",
   "metadata": {},
   "source": [
    "## Step 4: Extract Features for Each Cell"
   ]
  },
  {
   "cell_type": "code",
   "execution_count": null,
   "metadata": {},
   "outputs": [],
   "source": [
    "df_features = extract_features_for_cells(radar, labeled_cells, num_features)\n",
    "\n",
    "df_features.head()"
   ]
  },
  {
   "cell_type": "markdown",
   "metadata": {},
   "source": [
    "## Step 5: Save the Processed Features\n",
    "\n",
    "We'll save this DataFrame. In a full workflow, you would loop over many radar files and concatenate the results."
   ]
  },
  {
   "cell_type": "code",
   "execution_count": null,
   "metadata": {},
   "outputs": [],
   "source": [
    "output_file = os.path.join(PROCESSED_PATH, 'features_single_scan.csv')\n",
    "df_features.to_csv(output_file, index=False)\n",
    "print(f\"Saved features to {output_file}\")"
   ]
  }
 ],
 "metadata": {
  "kernelspec": {
   "display_name": "Python 3",
   "language": "python",
   "name": "python3"
  }
 },
 "nbformat": 4,
 "nbformat_minor": 4
}