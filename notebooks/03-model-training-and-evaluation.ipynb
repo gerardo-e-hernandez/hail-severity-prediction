{
 "cells": [
  {
   "cell_type": "markdown",
   "metadata": {},
   "source": [
    "# 3. Model Training and Evaluation\n",
    "\n",
    "This notebook brings everything together. We'll load our processed features, label them using SPC reports, and then train and evaluate our models."
   ]
  },
  {
   "cell_type": "code",
   "execution_count": null,
   "metadata": {},
   "outputs": [],
   "source": [
    "import pandas as pd\n",
    "import os\n",
    "import sys\n",
    "import numpy as np\n",
    "\n",
    "sys.path.append('../src')\n",
    "from modeling import label_data, train_classification_model, train_regression_model"
   ]
  },
  {
   "cell_type": "markdown",
   "metadata": {},
   "source": [
    "## Step 1: Load Data\n",
    "\n",
    "**Note:** For a real project, you would first run the feature engineering pipeline on many NEXRAD files and concatenate them into a single large CSV. Here, we use the single scan file as a placeholder."
   ]
  },
  {
   "cell_type": "code",
   "execution_count": null,
   "metadata": {},
   "outputs": [],
   "source": [
    "# Load features (assuming you have a larger, combined file)\n",
    "features_file = '../data/processed/features_single_scan.csv'\n",
    "if not os.path.exists(features_file):\n",
    "    raise FileNotFoundError(\"Processed features not found. Run notebook 02 first.\")\n",
    "features_df = pd.read_csv(features_file)\n",
    "\n",
    "# Load SPC reports\n",
    "spc_file = '../data/raw/spc_reports/240528_rpts.csv'\n",
    "spc_df = pd.read_csv(spc_file)\n",
    "hail_reports = spc_df[spc_df['Type'] == 'Hail'].copy()"
   ]
  },
  {
   "cell_type": "markdown",
   "metadata": {},
   "source": [
    "## Step 2: Label the Feature Data"
   ]
  },
  {
   "cell_type": "code",
   "execution_count": null,
   "metadata": {},
   "outputs": [],
   "source": [
    "labeled_df = label_data(features_df, hail_reports)\n",
    "\n",
    "print(f\"Number of cells matched with hail reports: {labeled_df['hail_report'].sum()}\")\n",
    "print(f\"Number of non-hail cells: {len(labeled_df) - labeled_df['hail_report'].sum()}\")\n",
    "\n",
    "labeled_df.head()"
   ]
  },
  {
   "cell_type": "markdown",
   "metadata": {},
   "source": [
    "## Step 3: Prepare Data for Modeling"
   ]
  },
  {
   "cell_type": "code",
   "execution_count": null,
   "metadata": {},
   "outputs": [],
   "source": [
    "FINAL_DATA_PATH = '../data/final/'\n",
    "os.makedirs(FINAL_DATA_PATH, exist_ok=True)\n",
    "labeled_df.to_csv(os.path.join(FINAL_DATA_PATH, 'final_labeled_dataset.csv'), index=False)\n",
    "\n",
    "# Define features (X) and targets (y)\n",
    "feature_cols = ['max_reflectivity_dbz', 'max_mesh_mm', 'echo_top_km']\n",
    "X = labeled_df[feature_cols]\n",
    "\n",
    "y_class = labeled_df['hail_report']\n",
    "y_reg = labeled_df['hail_size_in']"
   ]
  },
  {
   "cell_type": "markdown",
   "metadata": {},
   "source": [
    "## Step 4: Train and Evaluate Classification Model (Will it hail?)"
   ]
  },
  {
   "cell_type": "code",
   "execution_count": null,
   "metadata": {},
   "outputs": [],
   "source": [
    "# The dataset is too small from one scan for meaningful training, \n",
    "# but this shows the process.\n",
    "if len(labeled_df) > 1 and labeled_df['hail_report'].nunique() > 1:\n",
    "    classifier = train_classification_model(X, y_class, '../models/hail_classifier.joblib')\n",
    "else:\n",
    "    print(\"Not enough data or class diversity to train the classification model.\")"
   ]
  },
  {
   "cell_type": "markdown",
   "metadata": {},
   "source": [
    "## Step 5: Train and Evaluate Regression Model (How large?)"
   ]
  },
  {
   "cell_type": "code",
   "execution_count": null,
   "metadata": {},
   "outputs": [],
   "source": [
    "if labeled_df['hail_report'].sum() > 1:\n",
    "    regressor = train_regression_model(X, y_reg, '../models/hail_regressor.joblib')\n",
    "else:\n",
    "    print(\"Not enough hail samples to train the regression model.\")"
   ]
  }
 ],
 "metadata": {
  "kernelspec": {
   "display_name": "Python 3",
   "language": "python",
   "name": "python3"
  }
 },
 "nbformat": 4,
 "nbformat_minor": 4
}